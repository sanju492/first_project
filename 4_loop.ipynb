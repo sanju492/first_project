{
  "nbformat": 4,
  "nbformat_minor": 0,
  "metadata": {
    "colab": {
      "provenance": [],
      "authorship_tag": "ABX9TyNwOHehcu5LLmUXeyFBLpJ0",
      "include_colab_link": true
    },
    "kernelspec": {
      "name": "python3",
      "display_name": "Python 3"
    },
    "language_info": {
      "name": "python"
    }
  },
  "cells": [
    {
      "cell_type": "markdown",
      "metadata": {
        "id": "view-in-github",
        "colab_type": "text"
      },
      "source": [
        "<a href=\"https://colab.research.google.com/github/sanju492/first_project/blob/main/4_loop.ipynb\" target=\"_parent\"><img src=\"https://colab.research.google.com/assets/colab-badge.svg\" alt=\"Open In Colab\"/></a>"
      ]
    },
    {
      "cell_type": "code",
      "execution_count": null,
      "metadata": {
        "colab": {
          "base_uri": "https://localhost:8080/"
        },
        "id": "MpM3Ic_ijZl7",
        "outputId": "c2eb1f25-9ca3-4723-a6e9-01c6f4c188ab"
      },
      "outputs": [
        {
          "output_type": "stream",
          "name": "stdout",
          "text": [
            "0\n",
            "1\n",
            "2\n",
            "3\n",
            "4\n",
            "5\n",
            "6\n",
            "7\n",
            "8\n",
            "9\n"
          ]
        }
      ],
      "source": [
        "for i in range(10):\n",
        "  print(i)\n"
      ]
    },
    {
      "cell_type": "code",
      "source": [
        "for num in range(100,140,2):\n",
        "  print(num)"
      ],
      "metadata": {
        "colab": {
          "base_uri": "https://localhost:8080/"
        },
        "collapsed": true,
        "id": "NXsUYnY9lE3n",
        "outputId": "192dc2f5-9d70-487b-8041-b533e815a3f3"
      },
      "execution_count": null,
      "outputs": [
        {
          "output_type": "stream",
          "name": "stdout",
          "text": [
            "100\n",
            "102\n",
            "104\n",
            "106\n",
            "108\n",
            "110\n",
            "112\n",
            "114\n",
            "116\n",
            "118\n",
            "120\n",
            "122\n",
            "124\n",
            "126\n",
            "128\n",
            "130\n",
            "132\n",
            "134\n",
            "136\n",
            "138\n"
          ]
        }
      ]
    },
    {
      "cell_type": "code",
      "source": [
        "word = \"remote internship\"\n",
        "\n",
        "for char in word:\n",
        "  print(char)"
      ],
      "metadata": {
        "colab": {
          "base_uri": "https://localhost:8080/"
        },
        "id": "E6-RxYSKleeC",
        "outputId": "62ff093e-b592-4c07-9bbc-e2eb35cfda65"
      },
      "execution_count": null,
      "outputs": [
        {
          "output_type": "stream",
          "name": "stdout",
          "text": [
            "r\n",
            "e\n",
            "m\n",
            "o\n",
            "t\n",
            "e\n",
            " \n",
            "i\n",
            "n\n",
            "t\n",
            "e\n",
            "r\n",
            "n\n",
            "s\n",
            "h\n",
            "i\n",
            "p\n"
          ]
        }
      ]
    },
    {
      "cell_type": "code",
      "source": [
        "my_list = ['anc', 'xyz', 'dfg', 'rft', 'fgh', 'jkl']\n",
        "for item in my_list:\n",
        "  print(item)"
      ],
      "metadata": {
        "colab": {
          "base_uri": "https://localhost:8080/"
        },
        "collapsed": true,
        "id": "3kK0aTIrl3Qq",
        "outputId": "e32edb40-286c-4af2-e51a-6525eb4b9463"
      },
      "execution_count": null,
      "outputs": [
        {
          "output_type": "stream",
          "name": "stdout",
          "text": [
            "anc\n",
            "xyz\n",
            "dfg\n",
            "rft\n",
            "fgh\n",
            "jkl\n"
          ]
        }
      ]
    },
    {
      "cell_type": "code",
      "source": [
        "for i in range(len(my_list)):\n",
        "  print(i)"
      ],
      "metadata": {
        "colab": {
          "base_uri": "https://localhost:8080/"
        },
        "id": "k168KRTcmXt8",
        "outputId": "812e5867-1803-4262-e774-b4aa73854136"
      },
      "execution_count": null,
      "outputs": [
        {
          "output_type": "stream",
          "name": "stdout",
          "text": [
            "0\n",
            "1\n",
            "2\n",
            "3\n",
            "4\n",
            "5\n"
          ]
        }
      ]
    },
    {
      "cell_type": "code",
      "source": [
        "for i in range(len(my_list)):\n",
        "  print(my_list[i])"
      ],
      "metadata": {
        "colab": {
          "base_uri": "https://localhost:8080/"
        },
        "id": "SKurMYMZm52Q",
        "outputId": "baace672-7e2c-4e5f-b78e-fef9577bdb3f"
      },
      "execution_count": null,
      "outputs": [
        {
          "output_type": "stream",
          "name": "stdout",
          "text": [
            "anc\n",
            "xyz\n",
            "dfg\n",
            "rft\n",
            "fgh\n",
            "jkl\n"
          ]
        }
      ]
    },
    {
      "cell_type": "code",
      "source": [
        "my_list1 = [\"anc\", 'dfg', 'fgh', 'jkl', 'rft']\n",
        "for item in my_list1:\n",
        "  if(item == \"anc\"):\n",
        "   print(\"we found item\", item)\n",
        "  else:\n",
        "    print(item)\n"
      ],
      "metadata": {
        "colab": {
          "base_uri": "https://localhost:8080/"
        },
        "id": "ok7Safh5nPgF",
        "outputId": "abb16080-cb1a-405d-a51e-984bb693de9e"
      },
      "execution_count": null,
      "outputs": [
        {
          "output_type": "stream",
          "name": "stdout",
          "text": [
            "we found item anc\n",
            "dfg\n",
            "fgh\n",
            "jkl\n",
            "rft\n"
          ]
        }
      ]
    },
    {
      "cell_type": "markdown",
      "source": [
        "#Dict functions"
      ],
      "metadata": {
        "id": "eSen5Q8TrVj8"
      }
    },
    {
      "cell_type": "code",
      "source": [
        "my_dict ={\"name\" : \"sanju\",\n",
        "          \"age\" : 10,\n",
        "          \"place\" : \"tvm\"}\n",
        "print(my_dict)"
      ],
      "metadata": {
        "colab": {
          "base_uri": "https://localhost:8080/"
        },
        "id": "f_OGIrKYq80U",
        "outputId": "04ff3220-1e2f-4089-e732-906bf3af746a"
      },
      "execution_count": null,
      "outputs": [
        {
          "output_type": "stream",
          "name": "stdout",
          "text": [
            "{'name': 'sanju', 'age': 10, 'place': 'tvm'}\n"
          ]
        }
      ]
    },
    {
      "cell_type": "code",
      "source": [
        "my_dict1 ={\"name\" : \"sanju\",\n",
        "          \"age\" : 10,\n",
        "           \"place\": \"tvm\"}\n",
        "for k,v in my_dict1.items():\n",
        "  print(f\"my{k} is {v}\")"
      ],
      "metadata": {
        "id": "N3331UW9sioP",
        "colab": {
          "base_uri": "https://localhost:8080/"
        },
        "outputId": "6d3c1a99-28ea-4ce0-a694-99698def6925"
      },
      "execution_count": null,
      "outputs": [
        {
          "output_type": "stream",
          "name": "stdout",
          "text": [
            "myname is sanju\n",
            "myage is 10\n",
            "myplace is tvm\n"
          ]
        }
      ]
    },
    {
      "cell_type": "code",
      "source": [
        "my_grocery_list = {\"apple\":180, \"grapes\":130,\"banana\":250, \"orange\":80, \"surf\":+40, \"oil\":89, \"wheet\":65}\n",
        "budget = 350\n",
        "cart = {}\n",
        "To_pay = 0\n",
        "for k,v in my_grocery_list.items():\n",
        "  if v <= budget - To_pay:\n",
        "    cart[k] = v\n",
        "    To_pay += v\n",
        "print(\"Items in cart:\", cart)\n",
        "print(\"Total amount to pay:\", To_pay)"
      ],
      "metadata": {
        "colab": {
          "base_uri": "https://localhost:8080/"
        },
        "id": "zgbANet-uYzj",
        "outputId": "453dafff-6492-404d-aafb-80fcfdc1f1e8"
      },
      "execution_count": null,
      "outputs": [
        {
          "output_type": "stream",
          "name": "stdout",
          "text": [
            "Items in cart: {'apple': 180, 'grapes': 130, 'surf': 40}\n",
            "Total amount to pay: 350\n"
          ]
        }
      ]
    },
    {
      "cell_type": "code",
      "source": [
        "my_grocery_list = {\"apple\":180, \"grapes\":130,\"banana\":250, \"orange\":80, \"surf\":+40, \"oil\":89, \"wheet\":65}\n",
        "budget = 500\n",
        "cart = {}\n",
        "to_pay = 0\n",
        "for k,v in my_grocery_list.items():\n",
        "  if v <= budget - to_pay:\n",
        "    cart[k] = v\n",
        "    to_pay += v\n",
        "print(\"itemsin cart:\", cart)\n",
        "print(\"total amount to pay\",to_pay)\n"
      ],
      "metadata": {
        "colab": {
          "base_uri": "https://localhost:8080/"
        },
        "id": "_6gUQ9Uk1fC_",
        "outputId": "38537e1e-f741-4bdc-98c2-bf2dc0bc5006"
      },
      "execution_count": null,
      "outputs": [
        {
          "output_type": "stream",
          "name": "stdout",
          "text": [
            "itemsin cart: {'apple': 180, 'grapes': 130, 'orange': 80, 'surf': 40, 'wheet': 65}\n",
            "total amount to pay 495\n"
          ]
        }
      ]
    },
    {
      "cell_type": "code",
      "source": [
        "#find num divisiable by 3 and 5 (1 to 100)\n",
        "\n",
        "for i in range(1,100):\n",
        "  if i%3==0 and i%5==0:\n",
        "    print(i)"
      ],
      "metadata": {
        "colab": {
          "base_uri": "https://localhost:8080/"
        },
        "id": "6pKmbaHr6FZo",
        "outputId": "94640944-a4de-45be-f322-dc95c85635ef"
      },
      "execution_count": null,
      "outputs": [
        {
          "output_type": "stream",
          "name": "stdout",
          "text": [
            "15\n",
            "30\n",
            "45\n",
            "60\n",
            "75\n",
            "90\n"
          ]
        }
      ]
    },
    {
      "cell_type": "code",
      "source": [
        "a = 1\n",
        "while a <10 :\n",
        "  print(a)\n",
        "  a = a+2"
      ],
      "metadata": {
        "colab": {
          "base_uri": "https://localhost:8080/"
        },
        "id": "mwExnRO-_-iy",
        "outputId": "19214e59-4ffa-474f-eac8-a8f5621cd42a"
      },
      "execution_count": null,
      "outputs": [
        {
          "output_type": "stream",
          "name": "stdout",
          "text": [
            "1\n",
            "3\n",
            "5\n",
            "7\n",
            "9\n"
          ]
        }
      ]
    },
    {
      "cell_type": "code",
      "source": [
        "a = 1\n",
        "while a <10 :\n",
        "  print(a)\n",
        "  a = a+2\n",
        "else:\n",
        "  print(\"you crossed the limit\")"
      ],
      "metadata": {
        "colab": {
          "base_uri": "https://localhost:8080/"
        },
        "id": "PN41dxyTA5wS",
        "outputId": "f2b82181-aa30-4040-991b-3fcc54ce2fd0"
      },
      "execution_count": null,
      "outputs": [
        {
          "output_type": "stream",
          "name": "stdout",
          "text": [
            "1\n",
            "3\n",
            "5\n",
            "7\n",
            "9\n",
            "you crossed the limit\n"
          ]
        }
      ]
    },
    {
      "cell_type": "code",
      "source": [
        "balance =  400\n",
        "while balance > 0:\n",
        "  #print(\"u have balance\")\n",
        "  print(\"you have balance\",balance)\n",
        "  balance = balance - 50\n",
        "else:\n",
        "    print(\"you have no balance\")\n"
      ],
      "metadata": {
        "colab": {
          "base_uri": "https://localhost:8080/"
        },
        "collapsed": true,
        "id": "-5BOluCXBwYO",
        "outputId": "af1d2451-11fe-490b-cd87-7496904ed918"
      },
      "execution_count": null,
      "outputs": [
        {
          "output_type": "stream",
          "name": "stdout",
          "text": [
            "you have balance 400\n",
            "you have balance 350\n",
            "you have balance 300\n",
            "you have balance 250\n",
            "you have balance 200\n",
            "you have balance 150\n",
            "you have balance 100\n",
            "you have balance 50\n",
            "you have no balance\n"
          ]
        }
      ]
    },
    {
      "cell_type": "code",
      "source": [
        "secrt_num = 9\n",
        "guess = int(input(\"guess a number\"))\n",
        "while guess !=  secrt_num:\n",
        "  print(\"try again\")\n",
        "  guess = int(input(\"guess a number\"))\n",
        "else:\n",
        "  print(\"you find the number !!\")"
      ],
      "metadata": {
        "colab": {
          "base_uri": "https://localhost:8080/"
        },
        "id": "_SnZoheyDkJG",
        "outputId": "a9919444-be6b-4f51-9105-06375251ec92"
      },
      "execution_count": null,
      "outputs": [
        {
          "output_type": "stream",
          "name": "stdout",
          "text": [
            "guess a number5\n",
            "try again\n",
            "guess a number6\n",
            "try again\n",
            "guess a number7\n",
            "try again\n",
            "guess a number9\n",
            "you find the number !!\n"
          ]
        }
      ]
    },
    {
      "cell_type": "markdown",
      "source": [
        "##random\n",
        "#to create random 'int'\n",
        "#important random\n",
        "#secr = random , randint(1,10)"
      ],
      "metadata": {
        "id": "NvXVS8LPJnFF"
      }
    },
    {
      "cell_type": "code",
      "source": [
        "\n",
        "import random\n",
        "secrt_num = random.randint(1,10)\n",
        "guess = int(input(\"guess a number\"))\n",
        "while guess !=  secrt_num:\n",
        "  print(\"try again\")\n",
        "  guess = int(input(\"guess a number\"))\n",
        "else:\n",
        "  print(\"you find the number !!\")"
      ],
      "metadata": {
        "id": "2baBs8mNGHTr",
        "colab": {
          "base_uri": "https://localhost:8080/"
        },
        "outputId": "506603ff-2ef7-4409-cca0-cbb5047f1266"
      },
      "execution_count": null,
      "outputs": [
        {
          "output_type": "stream",
          "name": "stdout",
          "text": [
            "guess a number9\n",
            "you find the number !!\n"
          ]
        }
      ]
    },
    {
      "cell_type": "code",
      "source": [
        "#code to enter password\n",
        "password = \"sanju\"\n",
        "attempt = 0\n",
        "while attempt < 3:\n",
        "  guess = input(\"enter your password: \")\n",
        "  if guess == password:\n",
        "    print(\"successful\")\n",
        "    break\n",
        "  else:\n",
        "    print(\"wrong password, try again\")\n",
        "    attempt += 1\n",
        "else:\n",
        "    print(\"you have exceeded the attempts, try after some time\")"
      ],
      "metadata": {
        "colab": {
          "base_uri": "https://localhost:8080/"
        },
        "id": "yA8vJr4-LLGX",
        "outputId": "facef72f-b3a2-4672-93e3-5ed4de674cff"
      },
      "execution_count": null,
      "outputs": [
        {
          "output_type": "stream",
          "name": "stdout",
          "text": [
            "enter your password: dhhbdj\n",
            "wrong password, try again\n",
            "enter your password: jbdvvbd\n",
            "wrong password, try again\n",
            "enter your password: sanju\n",
            "successful\n"
          ]
        }
      ]
    },
    {
      "cell_type": "code",
      "source": [
        "movies = {\n",
        "    \"Inception\": 8,\n",
        "    \"Avatar\": 5,\n",
        "    \"Joker\": 9,\n",
        "    \"Toy Story\": 4\n",
        "}\n",
        "print(\"All Movies:\")\n",
        "for m in movies:\n",
        "    print(m, \":\", movies[m])\n",
        "for m in movies:\n",
        "    if movies[m] == 8:\n",
        "        movies[m] = 5\n",
        "    elif movies[m] == 5:\n",
        "        movies[m] = 9\n",
        "movies[\"Interstellar\"] = 10\n",
        "movies[\"Frozen\"] = 6\n",
        "high_rate = max(movies.values())\n",
        "print(\"\\nHighest rated movie(s):\")\n",
        "for m in movies:\n",
        "    if movies[m] == high_rate:\n",
        "        print(m, \":\", movies[m])\n",
        "movies = {m: r for m, r in movies.items() if r >= 5}\n",
        "print(\"\\nFinal Movie List:\")\n",
        "for m in movies:\n",
        "    print(m, \":\", movies[m])"
      ],
      "metadata": {
        "id": "tt3WHCvuQ5Af",
        "colab": {
          "base_uri": "https://localhost:8080/"
        },
        "outputId": "eec55138-0cd1-4f2b-932d-2420d7f7610e"
      },
      "execution_count": null,
      "outputs": [
        {
          "output_type": "stream",
          "name": "stdout",
          "text": [
            "All Movies:\n",
            "Inception : 8\n",
            "Avatar : 5\n",
            "Joker : 9\n",
            "Toy Story : 4\n",
            "\n",
            "Highest rated movie(s):\n",
            "Interstellar : 10\n",
            "\n",
            "Final Movie List:\n",
            "Inception : 5\n",
            "Avatar : 9\n",
            "Joker : 9\n",
            "Interstellar : 10\n",
            "Frozen : 6\n"
          ]
        }
      ]
    },
    {
      "cell_type": "code",
      "source": [
        "def function_name():\n",
        "  function_body\n"
      ],
      "metadata": {
        "id": "5yR2syc6tGn0"
      },
      "execution_count": null,
      "outputs": []
    },
    {
      "cell_type": "code",
      "source": [
        "def greet():\n",
        "  print(\"hello welcome to kerala\")\n",
        "\n",
        "greet()\n",
        "greet()"
      ],
      "metadata": {
        "colab": {
          "base_uri": "https://localhost:8080/"
        },
        "id": "qa4IZlnttUVy",
        "outputId": "8baaa444-49f6-4c25-e064-c7ba331d47d9"
      },
      "execution_count": null,
      "outputs": [
        {
          "output_type": "stream",
          "name": "stdout",
          "text": [
            "hello welcome to kerala\n",
            "hello welcome to kerala\n"
          ]
        }
      ]
    },
    {
      "cell_type": "code",
      "source": [
        "def greet():\n",
        "   pass\n",
        "\n",
        "   greet()"
      ],
      "metadata": {
        "id": "nfAp6BfJt7Va"
      },
      "execution_count": null,
      "outputs": []
    },
    {
      "cell_type": "code",
      "source": [
        "def greet(name):\n",
        "  print(f\"Hello {name}, welcome to the programe\")\n",
        "\n",
        "greet('sanju')\n",
        "greet('rizwan5')"
      ],
      "metadata": {
        "colab": {
          "base_uri": "https://localhost:8080/"
        },
        "id": "STIQFZEdvKfK",
        "outputId": "c3327b01-3e85-4baf-a1d5-8c778e596064"
      },
      "execution_count": null,
      "outputs": [
        {
          "output_type": "stream",
          "name": "stdout",
          "text": [
            "Hello sanju, welcome to the programe\n",
            "Hello rizwan5, welcome to the programe\n"
          ]
        }
      ]
    },
    {
      "cell_type": "code",
      "source": [
        "def greet(name,time):\n",
        "  print(f\"hello{name}, welcome to the program\")\n",
        "  print(f\"your session start at {time}\\n\")\n",
        "\n",
        "greet(\"sanju\",\"9am\")\n",
        "greet(\"azeem\",\"8am\")\n",
        "greet(\"rizwan\",\"2pm\")"
      ],
      "metadata": {
        "colab": {
          "base_uri": "https://localhost:8080/"
        },
        "id": "N0IQeyeswM-c",
        "outputId": "c64001b3-c494-4d20-dcdf-41751a3ea949"
      },
      "execution_count": null,
      "outputs": [
        {
          "output_type": "stream",
          "name": "stdout",
          "text": [
            "hellosanju, welcome to the program\n",
            "your session start at 9am\n",
            "\n",
            "helloazeem, welcome to the program\n",
            "your session start at 8am\n",
            "\n",
            "hellorizwan, welcome to the program\n",
            "your session start at 2pm\n",
            "\n"
          ]
        }
      ]
    },
    {
      "cell_type": "code",
      "source": [
        "\n",
        "\n",
        "def product(num1,num2):\n",
        " res = num1*num2\n",
        " print(\"product is \",res)\n",
        "\n",
        "\n",
        "num1=(int(input(\"enter num1:\")))\n",
        "num2=(int(input(\"enter num2:\")))\n",
        "product(num1,num2)"
      ],
      "metadata": {
        "colab": {
          "base_uri": "https://localhost:8080/"
        },
        "id": "eef0plzFxyaX",
        "outputId": "3dabbffc-e4a4-4100-b0ad-95cbec0adeaf"
      },
      "execution_count": null,
      "outputs": [
        {
          "output_type": "stream",
          "name": "stdout",
          "text": [
            "enter num1:2\n",
            "enter num2:3\n",
            "product is  6\n"
          ]
        }
      ]
    },
    {
      "cell_type": "code",
      "source": [
        "def product(num1,num2):\n",
        " res = num1-num2\n",
        " print(\"product is \",res)\n",
        "\n",
        "\n",
        "num1=(int(input(\"enter num1:\")))\n",
        "num2=(int(input(\"enter num2:\")))\n",
        "product(num1,num2)"
      ],
      "metadata": {
        "colab": {
          "base_uri": "https://localhost:8080/"
        },
        "id": "iDY0XvCu0cEF",
        "outputId": "aa4625ec-5e9d-4032-f12c-4ea05d680c01"
      },
      "execution_count": null,
      "outputs": [
        {
          "output_type": "stream",
          "name": "stdout",
          "text": [
            "enter num1:5\n",
            "enter num2:2\n",
            "product is  3\n"
          ]
        }
      ]
    },
    {
      "cell_type": "code",
      "source": [
        "def multiply(a,b):\n",
        "  product = a*b\n",
        "  print(product)\n",
        "\n",
        "a=(int(input(\"enter num1:\")))\n",
        "b=(int(input(\"enter num2:\")))\n",
        "multiply(a,b)\n"
      ],
      "metadata": {
        "colab": {
          "base_uri": "https://localhost:8080/"
        },
        "id": "Eqlp9bx70sUd",
        "outputId": "bb0dd161-57f8-4310-f1a9-15725a727a2a"
      },
      "execution_count": null,
      "outputs": [
        {
          "output_type": "stream",
          "name": "stdout",
          "text": [
            "enter num1:4\n",
            "enter num2:7\n",
            "28\n"
          ]
        }
      ]
    },
    {
      "cell_type": "code",
      "source": [
        "def total_bill(amount):\n",
        " tip = amount * (20/100)\n",
        " total = amount+tip\n",
        " print(\"you need to pay \",total)\n",
        "\n",
        "bill = int(input(\"enter your bill :\"))\n",
        "total_bill(bill)"
      ],
      "metadata": {
        "colab": {
          "base_uri": "https://localhost:8080/"
        },
        "id": "lNYGzWns13kH",
        "outputId": "96408905-4765-47b8-f8d3-cd46cfccdfc9"
      },
      "execution_count": null,
      "outputs": [
        {
          "output_type": "stream",
          "name": "stdout",
          "text": [
            "enter your bill :500\n",
            "you need to pay  600.0\n"
          ]
        }
      ]
    },
    {
      "cell_type": "code",
      "source": [
        "num_list = [12,4,5,7,8,13,10,21]\n",
        "def average_even(numberlist):\n",
        "  even_list=[]\n",
        "  for num in numberlist:\n",
        "   if num % 2 == 0:\n",
        "    even_list.append(num)\n",
        "    averageeven = sum(even_list)/len(even_list)\n",
        "  print(even_list)\n",
        "  print(averageeven)\n",
        "\n",
        "average_even(num_list)\n"
      ],
      "metadata": {
        "id": "8PeU1vDX4kGq",
        "colab": {
          "base_uri": "https://localhost:8080/"
        },
        "outputId": "7df40bc8-ff00-43d3-82ae-7ce7de1b2336"
      },
      "execution_count": null,
      "outputs": [
        {
          "output_type": "stream",
          "name": "stdout",
          "text": [
            "[12, 4, 8, 10]\n",
            "8.5\n"
          ]
        }
      ]
    },
    {
      "cell_type": "code",
      "source": [
        "def sum_numbers(*args):\n",
        "  print(type(args))\n",
        "  total=0\n",
        "  for i in args:\n",
        "    total+= i\n",
        "  print(total)\n",
        "\n",
        "\n",
        "sum_numbers(7,8,9,4,3)"
      ],
      "metadata": {
        "id": "YUXBet0X_ESA",
        "colab": {
          "base_uri": "https://localhost:8080/"
        },
        "outputId": "64c1449c-f33a-48d3-b073-50f4750d5227"
      },
      "execution_count": null,
      "outputs": [
        {
          "output_type": "stream",
          "name": "stdout",
          "text": [
            "<class 'tuple'>\n",
            "31\n"
          ]
        }
      ]
    },
    {
      "cell_type": "code",
      "source": [
        "def print_info(**args):\n",
        " for item,val in args.item():\n",
        "  print(f\"{item} is {val}\")\n",
        "\n",
        " print_info(name=\"Alan\",place=\"tvm\",score=6)\n",
        " print_info(name=\"Alan\",place=\"tvm\",Batch=\"DSA\")"
      ],
      "metadata": {
        "id": "cZf0mc6fBi8e"
      },
      "execution_count": null,
      "outputs": []
    },
    {
      "cell_type": "code",
      "source": [],
      "metadata": {
        "id": "MZ8IwWavUhX8"
      },
      "execution_count": null,
      "outputs": []
    }
  ]
}