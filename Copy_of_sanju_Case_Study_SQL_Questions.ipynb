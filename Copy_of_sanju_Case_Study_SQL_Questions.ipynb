{
  "nbformat": 4,
  "nbformat_minor": 0,
  "metadata": {
    "colab": {
      "provenance": [],
      "include_colab_link": true
    },
    "kernelspec": {
      "name": "python3",
      "display_name": "Python 3"
    },
    "language_info": {
      "name": "python"
    }
  },
  "cells": [
    {
      "cell_type": "markdown",
      "metadata": {
        "id": "view-in-github",
        "colab_type": "text"
      },
      "source": [
        "<a href=\"https://colab.research.google.com/github/sanju492/first_project/blob/main/Copy_of_sanju_Case_Study_SQL_Questions.ipynb\" target=\"_parent\"><img src=\"https://colab.research.google.com/assets/colab-badge.svg\" alt=\"Open In Colab\"/></a>"
      ]
    },
    {
      "cell_type": "markdown",
      "source": [
        "# Case Study on SQL\n"
      ],
      "metadata": {
        "id": "WEiBwlhgYtYx"
      }
    },
    {
      "cell_type": "code",
      "source": [
        "import sqlite3\n",
        "import pandas as pd"
      ],
      "metadata": {
        "id": "Q6xrAf0CgwyW"
      },
      "execution_count": null,
      "outputs": []
    },
    {
      "cell_type": "code",
      "source": [
        "def load_imdb_database(db_path):\n",
        "  try:\n",
        "    conn = sqlite3.connect(db_path)\n",
        "    print(\"IMDB database loaded successfully.\")\n",
        "    return conn\n",
        "  except sqlite3.Error as e:\n",
        "    print(f\"Error loading IMDB database: {e}\")\n",
        "    return None"
      ],
      "metadata": {
        "id": "YOO65TNTg7fg"
      },
      "execution_count": null,
      "outputs": []
    },
    {
      "cell_type": "code",
      "execution_count": null,
      "metadata": {
        "colab": {
          "base_uri": "https://localhost:8080/"
        },
        "id": "-0Th69XEghxi",
        "outputId": "d9fb7560-f31f-474b-ba02-87a926656cc7"
      },
      "outputs": [
        {
          "output_type": "stream",
          "name": "stdout",
          "text": [
            "IMDB database loaded successfully.\n",
            "Connection successful\n"
          ]
        }
      ],
      "source": [
        "db_path = \"imdb.db\"\n",
        "conn = load_imdb_database(db_path)\n",
        "\n",
        "if conn:\n",
        "  print(\"Connection successful\")\n",
        "  cursor = conn.cursor()"
      ]
    },
    {
      "cell_type": "markdown",
      "source": [
        "## Following is the schema of the IMDB database. It lists all tables and their schemas.\n",
        "\n"
      ],
      "metadata": {
        "id": "OyMdDsyWakEL"
      }
    },
    {
      "cell_type": "code",
      "source": [
        "cursor.execute(\"SELECT name FROM sqlite_master WHERE type='table';\")\n",
        "tables = cursor.fetchall()\n",
        "\n",
        "print(\"Database Schema:\")\n",
        "for table in tables:\n",
        "    table_name = table[0]\n",
        "    print(f\"\\nTable: {table_name}\")\n",
        "\n",
        "    cursor.execute(f\"PRAGMA table_info({table_name});\")\n",
        "    schema = cursor.fetchall()\n",
        "\n",
        "    print(\"Columns:\")\n",
        "    for column in schema:\n",
        "        cid, name, dtype, notnull, dflt_value, pk = column\n",
        "        print(f\"  - {name} ({dtype}), NOT NULL: {bool(notnull)}, Default: {dflt_value}, Primary Key: {bool(pk)}\")"
      ],
      "metadata": {
        "colab": {
          "base_uri": "https://localhost:8080/"
        },
        "id": "QHglU6mobmV3",
        "outputId": "a0ff773c-8e0f-4d03-80bf-1bee70108d34"
      },
      "execution_count": null,
      "outputs": [
        {
          "output_type": "stream",
          "name": "stdout",
          "text": [
            "Database Schema:\n",
            "\n",
            "Table: Movie\n",
            "Columns:\n",
            "  - index (INTEGER), NOT NULL: False, Default: None, Primary Key: False\n",
            "  - MID (TEXT), NOT NULL: False, Default: None, Primary Key: False\n",
            "  - title (TEXT), NOT NULL: False, Default: None, Primary Key: False\n",
            "  - year (TEXT), NOT NULL: False, Default: None, Primary Key: False\n",
            "  - rating (REAL), NOT NULL: False, Default: None, Primary Key: False\n",
            "  - num_votes (INTEGER), NOT NULL: False, Default: None, Primary Key: False\n",
            "\n",
            "Table: Genre\n",
            "Columns:\n",
            "  - index (INTEGER), NOT NULL: False, Default: None, Primary Key: False\n",
            "  - Name (TEXT), NOT NULL: False, Default: None, Primary Key: False\n",
            "  - GID (INTEGER), NOT NULL: False, Default: None, Primary Key: False\n",
            "\n",
            "Table: Language\n",
            "Columns:\n",
            "  - index (INTEGER), NOT NULL: False, Default: None, Primary Key: False\n",
            "  - Name (TEXT), NOT NULL: False, Default: None, Primary Key: False\n",
            "  - LAID (INTEGER), NOT NULL: False, Default: None, Primary Key: False\n",
            "\n",
            "Table: Country\n",
            "Columns:\n",
            "  - index (INTEGER), NOT NULL: False, Default: None, Primary Key: False\n",
            "  - Name (TEXT), NOT NULL: False, Default: None, Primary Key: False\n",
            "  - CID (INTEGER), NOT NULL: False, Default: None, Primary Key: False\n",
            "\n",
            "Table: Location\n",
            "Columns:\n",
            "  - index (INTEGER), NOT NULL: False, Default: None, Primary Key: False\n",
            "  - Name (TEXT), NOT NULL: False, Default: None, Primary Key: False\n",
            "  - LID (INTEGER), NOT NULL: False, Default: None, Primary Key: False\n",
            "\n",
            "Table: M_Location\n",
            "Columns:\n",
            "  - index (INTEGER), NOT NULL: False, Default: None, Primary Key: False\n",
            "  - MID (TEXT), NOT NULL: False, Default: None, Primary Key: False\n",
            "  - LID (REAL), NOT NULL: False, Default: None, Primary Key: False\n",
            "  - ID (INTEGER), NOT NULL: False, Default: None, Primary Key: False\n",
            "\n",
            "Table: M_Country\n",
            "Columns:\n",
            "  - index (INTEGER), NOT NULL: False, Default: None, Primary Key: False\n",
            "  - MID (TEXT), NOT NULL: False, Default: None, Primary Key: False\n",
            "  - CID (REAL), NOT NULL: False, Default: None, Primary Key: False\n",
            "  - ID (INTEGER), NOT NULL: False, Default: None, Primary Key: False\n",
            "\n",
            "Table: M_Language\n",
            "Columns:\n",
            "  - index (INTEGER), NOT NULL: False, Default: None, Primary Key: False\n",
            "  - MID (TEXT), NOT NULL: False, Default: None, Primary Key: False\n",
            "  - LAID (INTEGER), NOT NULL: False, Default: None, Primary Key: False\n",
            "  - ID (INTEGER), NOT NULL: False, Default: None, Primary Key: False\n",
            "\n",
            "Table: M_Genre\n",
            "Columns:\n",
            "  - index (INTEGER), NOT NULL: False, Default: None, Primary Key: False\n",
            "  - MID (TEXT), NOT NULL: False, Default: None, Primary Key: False\n",
            "  - GID (INTEGER), NOT NULL: False, Default: None, Primary Key: False\n",
            "  - ID (INTEGER), NOT NULL: False, Default: None, Primary Key: False\n",
            "\n",
            "Table: Person\n",
            "Columns:\n",
            "  - index (INTEGER), NOT NULL: False, Default: None, Primary Key: False\n",
            "  - PID (TEXT), NOT NULL: False, Default: None, Primary Key: False\n",
            "  - Name (TEXT), NOT NULL: False, Default: None, Primary Key: False\n",
            "  - Gender (TEXT), NOT NULL: False, Default: None, Primary Key: False\n",
            "\n",
            "Table: M_Producer\n",
            "Columns:\n",
            "  - index (INTEGER), NOT NULL: False, Default: None, Primary Key: False\n",
            "  - MID (TEXT), NOT NULL: False, Default: None, Primary Key: False\n",
            "  - PID (TEXT), NOT NULL: False, Default: None, Primary Key: False\n",
            "  - ID (INTEGER), NOT NULL: False, Default: None, Primary Key: False\n",
            "\n",
            "Table: M_Director\n",
            "Columns:\n",
            "  - index (INTEGER), NOT NULL: False, Default: None, Primary Key: False\n",
            "  - MID (TEXT), NOT NULL: False, Default: None, Primary Key: False\n",
            "  - PID (TEXT), NOT NULL: False, Default: None, Primary Key: False\n",
            "  - ID (INTEGER), NOT NULL: False, Default: None, Primary Key: False\n",
            "\n",
            "Table: M_Cast\n",
            "Columns:\n",
            "  - index (INTEGER), NOT NULL: False, Default: None, Primary Key: False\n",
            "  - MID (TEXT), NOT NULL: False, Default: None, Primary Key: False\n",
            "  - PID (TEXT), NOT NULL: False, Default: None, Primary Key: False\n",
            "  - ID (INTEGER), NOT NULL: False, Default: None, Primary Key: False\n"
          ]
        }
      ]
    },
    {
      "cell_type": "markdown",
      "source": [
        "# Write SQL queries for the following questions"
      ],
      "metadata": {
        "id": "At0HJhxwcWMV"
      }
    },
    {
      "cell_type": "markdown",
      "source": [
        "## 1. Write query to list first 5 rows of Person table\n",
        "\n",
        "\n",
        "\n"
      ],
      "metadata": {
        "id": "cHeY-4I-Y1Go"
      }
    },
    {
      "cell_type": "code",
      "source": [
        "q1 = \"\"\"SELECT * FROM Person LIMIT 5;\"\"\""
      ],
      "metadata": {
        "id": "yTksEs_JHuK8"
      },
      "execution_count": null,
      "outputs": []
    },
    {
      "cell_type": "code",
      "source": [
        "def q1_grader(q1):\n",
        "  result = pd.read_sql_query(q1, conn)\n",
        "  return result.shape == (5, 4)\n",
        "print(q1_grader(q1))"
      ],
      "metadata": {
        "colab": {
          "base_uri": "https://localhost:8080/"
        },
        "id": "19rLGemCcoak",
        "outputId": "4c27bcfb-654a-4201-dc43-b0543d119aeb"
      },
      "execution_count": null,
      "outputs": [
        {
          "output_type": "stream",
          "name": "stdout",
          "text": [
            "True\n"
          ]
        }
      ]
    },
    {
      "cell_type": "markdown",
      "source": [
        "## 2. Write query to select title, year and rating from Movie table"
      ],
      "metadata": {
        "id": "Cmuvp9h7dZWu"
      }
    },
    {
      "cell_type": "code",
      "source": [
        "q2 =  \"\"\"SELECT title, year, rating FROM Movie;\"\"\""
      ],
      "metadata": {
        "id": "g7MI-hJycPtn"
      },
      "execution_count": null,
      "outputs": []
    },
    {
      "cell_type": "code",
      "source": [
        "def q2_grader(q2):\n",
        "  result = pd.read_sql_query(q2, conn)\n",
        "  return result.shape == (3473, 3) and result['title'][0]=='Mowgli'\n",
        "print(q2_grader(q2))"
      ],
      "metadata": {
        "colab": {
          "base_uri": "https://localhost:8080/"
        },
        "id": "gyk9b2uvd5O6",
        "outputId": "5fced70b-156e-404c-bc0b-91c45f61b57f"
      },
      "execution_count": null,
      "outputs": [
        {
          "output_type": "stream",
          "name": "stdout",
          "text": [
            "True\n"
          ]
        }
      ]
    },
    {
      "cell_type": "markdown",
      "source": [
        "## 3. Write query to get title of first movie in movie table sorted by year in ascending order\n"
      ],
      "metadata": {
        "id": "EvD979LNeaFm"
      }
    },
    {
      "cell_type": "code",
      "source": [
        "q3 = \"\"\"SELECT title FROM Movie ORDER BY year ASC LIMIT 1;\"\"\""
      ],
      "metadata": {
        "id": "noFVuK27eczz"
      },
      "execution_count": null,
      "outputs": []
    },
    {
      "cell_type": "code",
      "source": [
        "def q3_grader(q3):\n",
        "  result = pd.read_sql_query(q3, conn)\n",
        "  return result['title']=='Alam Ara'\n",
        "print(q3_grader(q3))"
      ],
      "metadata": {
        "colab": {
          "base_uri": "https://localhost:8080/"
        },
        "id": "jpGuMnkveeU5",
        "outputId": "ea324dd4-564f-4733-b466-084a07584184"
      },
      "execution_count": null,
      "outputs": [
        {
          "output_type": "stream",
          "name": "stdout",
          "text": [
            "0    True\n",
            "Name: title, dtype: bool\n"
          ]
        }
      ]
    },
    {
      "cell_type": "markdown",
      "source": [
        "## 4. Write query to get the very first year in which Devdas movie was released"
      ],
      "metadata": {
        "id": "ZQVPvM8qgl3k"
      }
    },
    {
      "cell_type": "code",
      "source": [
        "q4 = \"\"\"SELECT MIN(year) AS year FROM Movie WHERE title = 'Devdas';\"\"\""
      ],
      "metadata": {
        "id": "DbvKV1XXgmd9"
      },
      "execution_count": null,
      "outputs": []
    },
    {
      "cell_type": "code",
      "source": [
        "def q4_grader(q4):\n",
        "  result = pd.read_sql_query(q4, conn)\n",
        "  return result['year']=='1936'\n",
        "print(q4_grader(q4))"
      ],
      "metadata": {
        "colab": {
          "base_uri": "https://localhost:8080/"
        },
        "id": "SJWlc4gCg6Gn",
        "outputId": "d5330cad-2909-44c2-ff62-56c8eed6e37d"
      },
      "execution_count": null,
      "outputs": [
        {
          "output_type": "stream",
          "name": "stdout",
          "text": [
            "0    True\n",
            "Name: year, dtype: bool\n"
          ]
        }
      ]
    },
    {
      "cell_type": "markdown",
      "source": [
        "## 5. Write query to get the number of movies released in 2018"
      ],
      "metadata": {
        "id": "sLHeXz_siuSW"
      }
    },
    {
      "cell_type": "code",
      "source": [
        "q5 = \"\"\"SELECT COUNT(*) FROM Movie WHERE year = 2018;\"\"\""
      ],
      "metadata": {
        "id": "fErMDcrFiuzw"
      },
      "execution_count": null,
      "outputs": []
    },
    {
      "cell_type": "code",
      "source": [
        "def q5_grader(q5):\n",
        "  result = pd.read_sql_query(q5, conn)\n",
        "  return result.iloc[0, 0] == 93\n",
        "print(q5_grader(q5))"
      ],
      "metadata": {
        "colab": {
          "base_uri": "https://localhost:8080/"
        },
        "id": "mV2gadLKi6ow",
        "outputId": "30e66c4b-9e2c-48da-b775-131505b3ef1b"
      },
      "execution_count": null,
      "outputs": [
        {
          "output_type": "stream",
          "name": "stdout",
          "text": [
            "True\n"
          ]
        }
      ]
    },
    {
      "cell_type": "markdown",
      "source": [
        "## 6. Write query to get the title of the movie with most number of votes in 2012"
      ],
      "metadata": {
        "id": "95Y3MGgsndph"
      }
    },
    {
      "cell_type": "code",
      "source": [
        "q6 = \"\"\"SELECT title FROM Movie WHERE year = 2012 ORDER BY num_votes DESC LIMIT 1;\"\"\""
      ],
      "metadata": {
        "id": "SK-BCCy2j2tz"
      },
      "execution_count": null,
      "outputs": []
    },
    {
      "cell_type": "code",
      "source": [
        "def q6_grader(q6):\n",
        "  result = pd.read_sql_query(q6, conn)\n",
        "  return result[\"title\"]==\"The Avengers\"\n",
        "print(q6_grader(q6))"
      ],
      "metadata": {
        "colab": {
          "base_uri": "https://localhost:8080/"
        },
        "id": "1s8NPuftj6kO",
        "outputId": "267734ba-1aed-4f15-f543-0119549d59d4"
      },
      "execution_count": null,
      "outputs": [
        {
          "output_type": "stream",
          "name": "stdout",
          "text": [
            "0    True\n",
            "Name: title, dtype: bool\n"
          ]
        }
      ]
    },
    {
      "cell_type": "markdown",
      "source": [
        "## 7. Write SQL query to find all the unique movie titles released in 2018"
      ],
      "metadata": {
        "id": "anmreTN2zRzL"
      }
    },
    {
      "cell_type": "code",
      "source": [
        "q7 = \"\"\"SELECT DISTINCT title FROM Movie WHERE year = 2018;\"\"\""
      ],
      "metadata": {
        "id": "T3gG0QsPzSQz"
      },
      "execution_count": null,
      "outputs": []
    },
    {
      "cell_type": "code",
      "source": [
        "def q7_grader(q7):\n",
        "  result = pd.read_sql_query(q7, conn)\n",
        "  return result.shape==(93, 1)\n",
        "print(q7_grader(q7))"
      ],
      "metadata": {
        "colab": {
          "base_uri": "https://localhost:8080/"
        },
        "id": "ndp9snvBz0U5",
        "outputId": "05490449-bec3-44e8-b305-8af25b158b13"
      },
      "execution_count": null,
      "outputs": [
        {
          "output_type": "stream",
          "name": "stdout",
          "text": [
            "True\n"
          ]
        }
      ]
    },
    {
      "cell_type": "markdown",
      "source": [
        "## 8. Write SQL query to get total number of movies released between 2017 (inclusive) and 2018 (inclusive)"
      ],
      "metadata": {
        "id": "TZEjK38M1Q8q"
      }
    },
    {
      "cell_type": "code",
      "source": [
        "q8 = \"\"\"SELECT COUNT(*) AS total_movies FROM Movie WHERE year BETWEEN 2017 AND 2018;\"\"\""
      ],
      "metadata": {
        "id": "vXz5lPZ80j3-"
      },
      "execution_count": null,
      "outputs": []
    },
    {
      "cell_type": "code",
      "source": [
        "def q8_grader(q8):\n",
        "  result = pd.read_sql_query(q8, conn)\n",
        "  return result.iloc[0, 0] == 211\n",
        "print(q8_grader(q8))"
      ],
      "metadata": {
        "colab": {
          "base_uri": "https://localhost:8080/"
        },
        "id": "p9wXgEae02ZV",
        "outputId": "227e9733-b0eb-4e6f-ad6a-ccb1cb805340"
      },
      "execution_count": null,
      "outputs": [
        {
          "output_type": "stream",
          "name": "stdout",
          "text": [
            "True\n"
          ]
        }
      ]
    },
    {
      "cell_type": "markdown",
      "source": [
        "## 9. Write SQL query to find the year in which maximum number of movies released"
      ],
      "metadata": {
        "id": "L7WKxoUU3Ai6"
      }
    },
    {
      "cell_type": "code",
      "source": [
        "q9 = \"\"\"SELECT year FROM Movie GROUP BY year ORDER BY COUNT(*) DESC LIMIT 1;\"\"\""
      ],
      "metadata": {
        "id": "fktY0SbY1qSA"
      },
      "execution_count": null,
      "outputs": []
    },
    {
      "cell_type": "code",
      "source": [
        "def q9_grader(q9):\n",
        "  result = pd.read_sql_query(q9, conn)\n",
        "  return result[\"year\"][0]==\"2005\"\n",
        "print(q9_grader(q9))"
      ],
      "metadata": {
        "colab": {
          "base_uri": "https://localhost:8080/"
        },
        "id": "yiYfQr1R13As",
        "outputId": "ec657966-ebb3-4c71-9144-4a361f2bcad0"
      },
      "execution_count": null,
      "outputs": [
        {
          "output_type": "stream",
          "name": "stdout",
          "text": [
            "True\n"
          ]
        }
      ]
    },
    {
      "cell_type": "markdown",
      "source": [
        "## 10. Write SQL query to find the title of the movie with rating>9.5 and number of votes > 90"
      ],
      "metadata": {
        "id": "dP2eLdzq7lBM"
      }
    },
    {
      "cell_type": "code",
      "source": [
        "q10 = \"\"\"SELECT title FROM Movie WHERE rating > 9.5 AND num_votes > 90;\"\"\""
      ],
      "metadata": {
        "id": "DUCNjcQM3VG-"
      },
      "execution_count": null,
      "outputs": []
    },
    {
      "cell_type": "code",
      "source": [
        "def q10_grader(q10):\n",
        "  result = pd.read_sql_query(q10, conn)\n",
        "  return result[\"title\"][0]==\"Man on Mission Fauladi\"\n",
        "print(q10_grader(q10))"
      ],
      "metadata": {
        "colab": {
          "base_uri": "https://localhost:8080/"
        },
        "id": "njqsiZo-3e6o",
        "outputId": "fd4e241e-2295-4a4b-c8ef-61fb235e0b1e"
      },
      "execution_count": null,
      "outputs": [
        {
          "output_type": "stream",
          "name": "stdout",
          "text": [
            "True\n"
          ]
        }
      ]
    },
    {
      "cell_type": "markdown",
      "source": [
        "## 11. Write SQL query to find the number of movies which has the word 'Dilwale' in their title"
      ],
      "metadata": {
        "id": "7Ov94gw_949N"
      }
    },
    {
      "cell_type": "code",
      "source": [
        "q11 = \"\"\"SELECT COUNT(*) AS total_movies FROM Movie WHERE title LIKE '%Dilwale%';\"\"\""
      ],
      "metadata": {
        "id": "9T5y3B1z8H4v"
      },
      "execution_count": null,
      "outputs": []
    },
    {
      "cell_type": "code",
      "source": [
        "def q11_grader(q11):\n",
        "  result = pd.read_sql_query(q11, conn)\n",
        "  return result.iloc[0, 0] == 4\n",
        "print(q11_grader(q11))"
      ],
      "metadata": {
        "colab": {
          "base_uri": "https://localhost:8080/"
        },
        "id": "gvtXmjaz8lfg",
        "outputId": "38de03d4-3f72-4e1b-cfbf-7f37107c0a8d"
      },
      "execution_count": null,
      "outputs": [
        {
          "output_type": "stream",
          "name": "stdout",
          "text": [
            "True\n"
          ]
        }
      ]
    },
    {
      "cell_type": "markdown",
      "source": [
        "## 12. Write nested SQL query to find the CID of country which produced most number of movies"
      ],
      "metadata": {
        "id": "5PaMaYb6AwgQ"
      }
    },
    {
      "cell_type": "code",
      "source": [
        "q12 = \"\"\"SELECT CID FROM (SELECT CID, COUNT(*) AS movie_count FROM M_Country GROUP BY CID ORDER BY movie_count DESC LIMIT 1);\"\"\""
      ],
      "metadata": {
        "id": "Ey1GZDoG-t2n"
      },
      "execution_count": null,
      "outputs": []
    },
    {
      "cell_type": "code",
      "source": [
        "def q12_grader(q12):\n",
        "  result = pd.read_sql_query(q12, conn)\n",
        "  return result.iloc[0]==2.0\n",
        "print(q12_grader(q12))"
      ],
      "metadata": {
        "colab": {
          "base_uri": "https://localhost:8080/"
        },
        "id": "5gHU4XQO-0E-",
        "outputId": "637aff12-a77e-45bf-b052-0edbd1d7ec74"
      },
      "execution_count": null,
      "outputs": [
        {
          "output_type": "stream",
          "name": "stdout",
          "text": [
            "CID    True\n",
            "Name: 0, dtype: bool\n"
          ]
        }
      ]
    },
    {
      "cell_type": "markdown",
      "source": [
        "## 13. Write nested SQL query to the country which produced most number of movies (use both Courty table and M_Country table)"
      ],
      "metadata": {
        "id": "F0E3Nw4nD7ux"
      }
    },
    {
      "cell_type": "code",
      "source": [
        "q13 = \"\"\"select Name from country where CID = (select CID from M_country group by MID order by count(*) desc limit 1) \"\"\""
      ],
      "metadata": {
        "id": "kJaN-L9aBY4Q"
      },
      "execution_count": null,
      "outputs": []
    },
    {
      "cell_type": "code",
      "source": [
        "def q13_grader(q13):\n",
        "  result = pd.read_sql_query(q13, conn)\n",
        "  return result.iloc[0, 0] == \"India\"\n",
        "print(q13_grader(q13))"
      ],
      "metadata": {
        "colab": {
          "base_uri": "https://localhost:8080/"
        },
        "id": "L8JOMcpjBqZo",
        "outputId": "ff40f566-f8e0-4eb2-9baa-5d20fd50098a"
      },
      "execution_count": null,
      "outputs": [
        {
          "output_type": "stream",
          "name": "stdout",
          "text": [
            "True\n"
          ]
        }
      ]
    },
    {
      "cell_type": "markdown",
      "source": [
        "## 14. Write SQL query to get the year and number of movies per year having number of movies per year is greater than 100"
      ],
      "metadata": {
        "id": "OHcgp0uCF003"
      }
    },
    {
      "cell_type": "code",
      "source": [
        "q14 = \"\"\"select year, count(*) from Movie group by year having count(*)>100\"\"\""
      ],
      "metadata": {
        "id": "AmIL0LgMENl_"
      },
      "execution_count": null,
      "outputs": []
    },
    {
      "cell_type": "code",
      "source": [
        "def q14_grader(q14):\n",
        "  result = pd.read_sql_query(q14, conn)\n",
        "  return result.shape==(13,2)\n",
        "print(q14_grader(q14))"
      ],
      "metadata": {
        "colab": {
          "base_uri": "https://localhost:8080/"
        },
        "id": "RWWaEwJtE6Uj",
        "outputId": "e01d199e-a32a-4501-c3b4-067699e84fe4"
      },
      "execution_count": null,
      "outputs": [
        {
          "output_type": "stream",
          "name": "stdout",
          "text": [
            "True\n"
          ]
        }
      ]
    },
    {
      "cell_type": "markdown",
      "source": [
        "## 15. Write SQL query to get the Name and Language ID (LAID) corresponding to Malayalam language"
      ],
      "metadata": {
        "id": "LcrzqodqG-Ae"
      }
    },
    {
      "cell_type": "code",
      "source": [
        "q15 = \"\"\"select Name,LAID from Language where Name = 'Malayalam' \"\"\""
      ],
      "metadata": {
        "id": "mZ7EH8emGXJg"
      },
      "execution_count": null,
      "outputs": []
    },
    {
      "cell_type": "code",
      "source": [
        "def q15_grader(q15):\n",
        "  result = pd.read_sql_query(q15, conn)\n",
        "  print(result)\n",
        "  return result[[\"Name\", \"LAID\"]].values.tolist() == [['Malayalam', 19]]\n",
        "print(q15_grader(q15))"
      ],
      "metadata": {
        "colab": {
          "base_uri": "https://localhost:8080/"
        },
        "id": "rVRZJXwoGcdX",
        "outputId": "8b0c0a98-6d0f-4e19-8571-6dc04f03f491"
      },
      "execution_count": null,
      "outputs": [
        {
          "output_type": "stream",
          "name": "stdout",
          "text": [
            "        Name  LAID\n",
            "0  Malayalam    19\n",
            "True\n"
          ]
        }
      ]
    },
    {
      "cell_type": "markdown",
      "source": [
        "## 16. Write SQL query to do inner join with movie table and M_Language table with MID colums"
      ],
      "metadata": {
        "id": "DvPnI7MDJVoT"
      }
    },
    {
      "cell_type": "code",
      "source": [
        "q16 = \"\"\"select title,year,LAID from Movie inner join M_language on Movie.MID = M_language.MID \"\"\""
      ],
      "metadata": {
        "id": "ZPO83_w1Hxco"
      },
      "execution_count": null,
      "outputs": []
    },
    {
      "cell_type": "code",
      "source": [
        "def q16_grader(q16):\n",
        "  result = pd.read_sql_query(q16, conn)\n",
        "  return result\n",
        "print(q16_grader(q16))"
      ],
      "metadata": {
        "colab": {
          "base_uri": "https://localhost:8080/"
        },
        "id": "S89KrFeQIWuv",
        "outputId": "b0084800-e53b-4061-b8b6-9b6f80ae3787"
      },
      "execution_count": null,
      "outputs": [
        {
          "output_type": "stream",
          "name": "stdout",
          "text": [
            "              title  year  LAID\n",
            "0            Mowgli  2018     0\n",
            "1     Ocean's Eight  2018     0\n",
            "2       Tomb Raider  2018     0\n",
            "3      The Avengers  2012     0\n",
            "4           Tumbbad  2018     1\n",
            "...             ...   ...   ...\n",
            "3468    Allah-Rakha  1986     2\n",
            "3469          Anari  1993     2\n",
            "3470  Come December  2006     2\n",
            "3471     Kala Jigar  1939     2\n",
            "3472         Kanoon  1994     2\n",
            "\n",
            "[3473 rows x 3 columns]\n"
          ]
        }
      ]
    },
    {
      "cell_type": "markdown",
      "source": [
        "## 17. Write SQL query to list title, year and rating of malayalam movies in the database by doing an inner join with movie table and M_Language table with MID column, also assuming language ID of malayalam movies as 19"
      ],
      "metadata": {
        "id": "vhF0SQu5Lthd"
      }
    },
    {
      "cell_type": "code",
      "source": [
        "q17 = \"\"\"select title, year,rating from Movie inner join M_language on Movie.MID = M_language.MID where M_language.LAID = 19 \"\"\""
      ],
      "metadata": {
        "id": "yHB7KI-wKw3p"
      },
      "execution_count": null,
      "outputs": []
    },
    {
      "cell_type": "code",
      "source": [
        "def q17_grader(q17):\n",
        "  # Re-establish connection to imdb.db for this query\n",
        "  conn_imdb = sqlite3.connect(\"imdb.db\")\n",
        "  result = pd.read_sql_query(q17, conn_imdb)\n",
        "  conn_imdb.close() # Close the connection after use\n",
        "  return result.shape==(16,3)\n",
        "print(q17_grader(q17))"
      ],
      "metadata": {
        "colab": {
          "base_uri": "https://localhost:8080/"
        },
        "id": "Ji5W5cemLX0a",
        "outputId": "0278b21a-07d8-4166-cfdd-17f2c1f3b7cf"
      },
      "execution_count": null,
      "outputs": [
        {
          "output_type": "stream",
          "name": "stdout",
          "text": [
            "True\n"
          ]
        }
      ]
    },
    {
      "cell_type": "code",
      "source": [
        "![ -f academic.db ] && rm academic.db\n",
        "\n",
        "conn = sqlite3.connect(\"academic.db\")\n",
        "cursor = conn.cursor()"
      ],
      "metadata": {
        "id": "GhjTNuPwqO7z"
      },
      "execution_count": null,
      "outputs": []
    },
    {
      "cell_type": "markdown",
      "source": [
        "## 18. Write SQL query to Create a table named students with two columns id (integer type) and name (varchar type)"
      ],
      "metadata": {
        "id": "aH8Y1PS9OZyj"
      }
    },
    {
      "cell_type": "code",
      "source": [
        "q18a = \"\"\"create table students(\n",
        "  id int AUTO_INCREMENT PRIMARY KEY,\n",
        "  name varchar(50)\n",
        ")\"\"\""
      ],
      "metadata": {
        "id": "TsaafyrxIYFd"
      },
      "execution_count": null,
      "outputs": []
    },
    {
      "cell_type": "code",
      "source": [
        "def q18_grader_a(q18):\n",
        "  try:\n",
        "    cursor.execute(q18)\n",
        "    return True\n",
        "  except:\n",
        "    pass\n",
        "\n",
        "def q18_grader_b(q19):\n",
        "  result = pd.read_sql_query(q19, conn)\n",
        "  return result.columns.tolist() == ['id', 'name']\n",
        "\n",
        "q18b = \"\"\"SELECT * FROM students;\"\"\"\n",
        "\n",
        "print(q18_grader_a(q18a) and q18_grader_b(q18b))"
      ],
      "metadata": {
        "colab": {
          "base_uri": "https://localhost:8080/"
        },
        "id": "whuIWdc4OAzm",
        "outputId": "4ed4a051-0c64-4255-dc4f-ad1c945268f1"
      },
      "execution_count": null,
      "outputs": [
        {
          "output_type": "stream",
          "name": "stdout",
          "text": [
            "None\n"
          ]
        }
      ]
    },
    {
      "cell_type": "markdown",
      "source": [
        "## 19. Write SQL query to insert the values (1, 'Alice') into students table"
      ],
      "metadata": {
        "id": "-hRir0DKPa9I"
      }
    },
    {
      "cell_type": "code",
      "source": [
        "q19_a = \"\"\"insert into students (id, name) values(1,'Alice') \"\"\""
      ],
      "metadata": {
        "id": "4x6gmopqq6s2"
      },
      "execution_count": null,
      "outputs": []
    },
    {
      "cell_type": "code",
      "source": [
        "def q19_grader_a(q19_a):\n",
        "  try:\n",
        "    cursor.execute(q19_a)\n",
        "  except:\n",
        "    pass\n",
        "  return True\n",
        "\n",
        "def q19_grader_b(q19_b):\n",
        "  result = pd.read_sql_query(q19_b, conn)\n",
        "  return result.values.tolist() == [[1, 'Alice']]\n",
        "\n",
        "q19_b = \"SELECT * FROM students\"\n",
        "print(q19_grader_a(q19_a) and q19_grader_b(q19_b))"
      ],
      "metadata": {
        "colab": {
          "base_uri": "https://localhost:8080/"
        },
        "id": "Bwq8A_58qXS7",
        "outputId": "6f53af82-9d20-418a-d2ca-b09199b935cd"
      },
      "execution_count": null,
      "outputs": [
        {
          "output_type": "stream",
          "name": "stdout",
          "text": [
            "False\n"
          ]
        }
      ]
    },
    {
      "cell_type": "markdown",
      "source": [
        "## 20. Write SQL Query to add the following more information to students table\n",
        "\n",
        "| ID | Name    |\n",
        "|----|---------|\n",
        "| 2  | Bob     |\n",
        "| 3  | Charlie |"
      ],
      "metadata": {
        "id": "PuQ4VFtwSu6x"
      }
    },
    {
      "cell_type": "code",
      "source": [
        "q20 = \"\"\" insert into students (id,name) values (2,'Bob'),(3,'Charlie')\"\"\""
      ],
      "metadata": {
        "id": "mGQrZEhKqgMo"
      },
      "execution_count": null,
      "outputs": []
    },
    {
      "cell_type": "code",
      "source": [
        "import sqlite3\n",
        "import pandas as pd\n",
        "\n",
        "# Reconnect to the academic.db database\n",
        "conn = sqlite3.connect(\"academic.db\")\n",
        "cursor = conn.cursor()\n",
        "\n",
        "# Recreate the students table\n",
        "try:\n",
        "    cursor.execute(\"\"\"DROP TABLE IF EXISTS students;\"\"\")\n",
        "    cursor.execute(\"\"\"create table students(\n",
        "      id int,\n",
        "      name varchar(50)\n",
        "    )\"\"\")\n",
        "except:\n",
        "    pass\n",
        "\n",
        "def q20_grader(q20):\n",
        "  try:\n",
        "    cursor.execute(q20)\n",
        "  except:\n",
        "    pass\n",
        "  return True\n",
        "\n",
        "def q20_grader_b(q20_b):\n",
        "  result = pd.read_sql_query(q20_b, conn)\n",
        "  return result.values.tolist() == [[1, 'Alice'], [2, 'Bob'], [3, 'Charlie']]\n",
        "\n",
        "q19_b = \"SELECT * FROM students\"\n",
        "print(q20_grader(q20) and q20_grader_b(q19_b))"
      ],
      "metadata": {
        "colab": {
          "base_uri": "https://localhost:8080/"
        },
        "id": "FRZxVn3xTAjk",
        "outputId": "2463f8f1-a8a4-4600-e78e-5147cdac7e50"
      },
      "execution_count": null,
      "outputs": [
        {
          "output_type": "stream",
          "name": "stdout",
          "text": [
            "False\n"
          ]
        }
      ]
    },
    {
      "cell_type": "code",
      "source": [
        "# conn.close()"
      ],
      "metadata": {
        "id": "qYNpS7UEhKc4"
      },
      "execution_count": null,
      "outputs": []
    },
    {
      "cell_type": "code",
      "source": [],
      "metadata": {
        "id": "53tIpYUusRVC"
      },
      "execution_count": null,
      "outputs": []
    }
  ]
}