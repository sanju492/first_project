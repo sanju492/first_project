{
  "nbformat": 4,
  "nbformat_minor": 0,
  "metadata": {
    "colab": {
      "provenance": [],
      "include_colab_link": true
    },
    "kernelspec": {
      "name": "python3",
      "display_name": "Python 3"
    },
    "language_info": {
      "name": "python"
    }
  },
  "cells": [
    {
      "cell_type": "markdown",
      "metadata": {
        "id": "view-in-github",
        "colab_type": "text"
      },
      "source": [
        "<a href=\"https://colab.research.google.com/github/sanju492/first_project/blob/main/pandas_casestudy.ipynb\" target=\"_parent\"><img src=\"https://colab.research.google.com/assets/colab-badge.svg\" alt=\"Open In Colab\"/></a>"
      ]
    },
    {
      "cell_type": "code",
      "source": [
        "import pandas as pd\n",
        "import numpy as np\n"
      ],
      "metadata": {
        "id": "tnrJXC4reu3k"
      },
      "execution_count": null,
      "outputs": []
    },
    {
      "cell_type": "code",
      "source": [
        "df = pd.read_csv(\"https://raw.githubusercontent.com/laxmimerit/All-CSV-ML-Data-Files-Download/master/IMDB-Movie-Data.csv\")"
      ],
      "metadata": {
        "id": "Muh5TD7TgEFx"
      },
      "execution_count": null,
      "outputs": []
    },
    {
      "cell_type": "code",
      "source": [
        "print(df.shape)        # rows, columns\n",
        "print(df.head())       # first 5 rows\n",
        "print(df.columns)      # column names\n",
        "print(df.info())       # datatypes + null values\n",
        "print(df.isnull().sum())  # missing values count\n"
      ],
      "metadata": {
        "colab": {
          "base_uri": "https://localhost:8080/"
        },
        "id": "0gni1MMqhBoO",
        "outputId": "6df233f1-a6ff-4d0f-972d-c999f9dc42d7"
      },
      "execution_count": null,
      "outputs": [
        {
          "output_type": "stream",
          "name": "stdout",
          "text": [
            "(1000, 12)\n",
            "   Rank                    Title                     Genre  \\\n",
            "0     1  Guardians of the Galaxy   Action,Adventure,Sci-Fi   \n",
            "1     2               Prometheus  Adventure,Mystery,Sci-Fi   \n",
            "2     3                    Split           Horror,Thriller   \n",
            "3     4                     Sing   Animation,Comedy,Family   \n",
            "4     5            Suicide Squad  Action,Adventure,Fantasy   \n",
            "\n",
            "                                         Description              Director  \\\n",
            "0  A group of intergalactic criminals are forced ...            James Gunn   \n",
            "1  Following clues to the origin of mankind, a te...          Ridley Scott   \n",
            "2  Three girls are kidnapped by a man with a diag...    M. Night Shyamalan   \n",
            "3  In a city of humanoid animals, a hustling thea...  Christophe Lourdelet   \n",
            "4  A secret government agency recruits some of th...            David Ayer   \n",
            "\n",
            "                                              Actors  Year  Runtime (Minutes)  \\\n",
            "0  Chris Pratt, Vin Diesel, Bradley Cooper, Zoe S...  2014                121   \n",
            "1  Noomi Rapace, Logan Marshall-Green, Michael Fa...  2012                124   \n",
            "2  James McAvoy, Anya Taylor-Joy, Haley Lu Richar...  2016                117   \n",
            "3  Matthew McConaughey,Reese Witherspoon, Seth Ma...  2016                108   \n",
            "4  Will Smith, Jared Leto, Margot Robbie, Viola D...  2016                123   \n",
            "\n",
            "   Rating   Votes  Revenue (Millions)  Metascore  \n",
            "0     8.1  757074              333.13       76.0  \n",
            "1     7.0  485820              126.46       65.0  \n",
            "2     7.3  157606              138.12       62.0  \n",
            "3     7.2   60545              270.32       59.0  \n",
            "4     6.2  393727              325.02       40.0  \n",
            "Index(['Rank', 'Title', 'Genre', 'Description', 'Director', 'Actors', 'Year',\n",
            "       'Runtime (Minutes)', 'Rating', 'Votes', 'Revenue (Millions)',\n",
            "       'Metascore'],\n",
            "      dtype='object')\n",
            "<class 'pandas.core.frame.DataFrame'>\n",
            "RangeIndex: 1000 entries, 0 to 999\n",
            "Data columns (total 12 columns):\n",
            " #   Column              Non-Null Count  Dtype  \n",
            "---  ------              --------------  -----  \n",
            " 0   Rank                1000 non-null   int64  \n",
            " 1   Title               1000 non-null   object \n",
            " 2   Genre               1000 non-null   object \n",
            " 3   Description         1000 non-null   object \n",
            " 4   Director            1000 non-null   object \n",
            " 5   Actors              1000 non-null   object \n",
            " 6   Year                1000 non-null   int64  \n",
            " 7   Runtime (Minutes)   1000 non-null   int64  \n",
            " 8   Rating              1000 non-null   float64\n",
            " 9   Votes               1000 non-null   int64  \n",
            " 10  Revenue (Millions)  872 non-null    float64\n",
            " 11  Metascore           936 non-null    float64\n",
            "dtypes: float64(3), int64(4), object(5)\n",
            "memory usage: 93.9+ KB\n",
            "None\n",
            "Rank                    0\n",
            "Title                   0\n",
            "Genre                   0\n",
            "Description             0\n",
            "Director                0\n",
            "Actors                  0\n",
            "Year                    0\n",
            "Runtime (Minutes)       0\n",
            "Rating                  0\n",
            "Votes                   0\n",
            "Revenue (Millions)    128\n",
            "Metascore              64\n",
            "dtype: int64\n"
          ]
        }
      ]
    },
    {
      "cell_type": "code",
      "source": [
        "df = df.drop_duplicates()\n"
      ],
      "metadata": {
        "id": "YZYIaNDDjl_M"
      },
      "execution_count": null,
      "outputs": []
    },
    {
      "cell_type": "code",
      "source": [
        "df = df.rename(columns={'Title': 'Movie_Title'})\n"
      ],
      "metadata": {
        "id": "3ZeHN8z4mPTW"
      },
      "execution_count": null,
      "outputs": []
    },
    {
      "cell_type": "code",
      "source": [
        "print(df['Genre'].unique())\n"
      ],
      "metadata": {
        "colab": {
          "base_uri": "https://localhost:8080/"
        },
        "id": "FEIQhLAKmRIw",
        "outputId": "994b7751-0bac-48f1-8bf5-3b7f4d3d7015"
      },
      "execution_count": null,
      "outputs": [
        {
          "output_type": "stream",
          "name": "stdout",
          "text": [
            "['Action,Adventure,Sci-Fi' 'Adventure,Mystery,Sci-Fi' 'Horror,Thriller'\n",
            " 'Animation,Comedy,Family' 'Action,Adventure,Fantasy' 'Comedy,Drama,Music'\n",
            " 'Comedy' 'Action,Adventure,Biography' 'Adventure,Drama,Romance'\n",
            " 'Adventure,Family,Fantasy' 'Biography,Drama,History'\n",
            " 'Animation,Adventure,Comedy' 'Action,Comedy,Drama' 'Action,Thriller'\n",
            " 'Biography,Drama' 'Drama,Mystery,Sci-Fi' 'Adventure,Drama,Thriller'\n",
            " 'Drama' 'Crime,Drama,Horror' 'Action,Adventure,Drama' 'Drama,Thriller'\n",
            " 'Action,Adventure,Comedy' 'Action,Horror,Sci-Fi' 'Adventure,Drama,Sci-Fi'\n",
            " 'Action,Adventure,Western' 'Comedy,Drama' 'Horror'\n",
            " 'Adventure,Drama,Fantasy' 'Action,Crime,Thriller' 'Action,Crime,Drama'\n",
            " 'Adventure,Drama,History' 'Crime,Horror,Thriller' 'Drama,Romance'\n",
            " 'Comedy,Drama,Romance' 'Horror,Mystery,Thriller' 'Crime,Drama,Mystery'\n",
            " 'Drama,Romance,Thriller' 'Drama,History,Thriller' 'Action,Drama,Thriller'\n",
            " 'Drama,History' 'Action,Drama,Romance' 'Drama,Fantasy' 'Action,Sci-Fi'\n",
            " 'Adventure,Drama,War' 'Action,Comedy,Fantasy' 'Biography,Comedy,Crime'\n",
            " 'Crime,Drama' 'Comedy,Crime,Drama' 'Action,Comedy,Crime'\n",
            " 'Animation,Drama,Fantasy' 'Horror,Mystery,Sci-Fi'\n",
            " 'Drama,Mystery,Thriller' 'Crime,Drama,Thriller' 'Biography,Crime,Drama'\n",
            " 'Crime,Mystery,Thriller' 'Action,Horror,Thriller' 'Romance,Sci-Fi'\n",
            " 'Action,Fantasy,War' 'Action,Biography,Drama' 'Drama,Horror,Mystery'\n",
            " 'Adventure,Drama,Family' 'Adventure,Comedy,Romance' 'Action'\n",
            " 'Adventure,Crime,Mystery' 'Comedy,Family,Musical'\n",
            " 'Adventure,Comedy,Drama' 'Drama,Horror,Thriller' 'Drama,Music'\n",
            " 'Mystery,Thriller' 'Mystery,Thriller,Western' 'Comedy,Family'\n",
            " 'Biography,Comedy,Drama' 'Drama,Western' 'Drama,Mystery,Romance'\n",
            " 'Action,Drama,Mystery' 'Action,Adventure,Crime'\n",
            " 'Adventure,Sci-Fi,Thriller' 'Action,Comedy,Mystery' 'Thriller,War'\n",
            " 'Action,Adventure,Thriller' 'Drama,Fantasy,Romance'\n",
            " 'Action,Drama,History' 'Animation,Adventure,Family' 'Adventure,Horror'\n",
            " 'Drama,Romance,Sci-Fi' 'Action,Adventure,Family' 'Action,Comedy'\n",
            " 'Comedy,Romance' 'Horror,Mystery' 'Drama,Family,Fantasy' 'Sci-Fi'\n",
            " 'Drama,War' 'Drama,Fantasy,Horror' 'Crime,Drama,History'\n",
            " 'Horror,Sci-Fi,Thriller' 'Action,Drama,Sport' 'Adventure,Biography,Drama'\n",
            " 'Biography,Drama,Thriller' 'Action,Adventure,Mystery' 'Drama,Horror'\n",
            " 'Comedy,Crime' 'Drama,Fantasy,War' 'Action,Adventure,Romance'\n",
            " 'Action,Drama,War' 'Drama,Musical,Romance' 'Drama,Sci-Fi,Thriller'\n",
            " 'Action,Drama,Sci-Fi' 'Drama,Sci-Fi' 'Adventure,Fantasy' 'Thriller'\n",
            " 'Biography,Drama,Romance' 'Action,Adventure' 'Action,Fantasy'\n",
            " 'Action,Drama,Horror' 'Comedy,Music,Romance' 'Biography,Drama,Sport'\n",
            " 'Action,Horror' 'Comedy,Horror,Thriller' 'Crime,Drama,Music'\n",
            " 'Action,Sci-Fi,Thriller' 'Drama,Horror,Sci-Fi' 'Drama,Sport'\n",
            " 'Comedy,Horror' 'Comedy,Fantasy,Romance' 'Comedy,Fantasy'\n",
            " 'Comedy,Drama,Fantasy' 'Adventure,Comedy,Horror' 'Comedy,Mystery'\n",
            " 'Action,Mystery,Sci-Fi' 'Action,Crime,Fantasy' 'Comedy,Fantasy,Horror'\n",
            " 'Animation,Action,Adventure' 'Action,Comedy,Family' 'Comedy,Sci-Fi'\n",
            " 'Action,Biography,Crime' 'Adventure,Comedy' 'Comedy,Music'\n",
            " 'Comedy,Drama,Horror' 'Action,Horror,Romance' 'Action,Drama,Fantasy'\n",
            " 'Action,Mystery,Thriller' 'Action,Adventure,Horror'\n",
            " 'Animation,Family,Fantasy' 'Adventure,Horror,Mystery'\n",
            " 'Action,Horror,Mystery' 'Adventure,Comedy,Family' 'Action,Crime,Mystery'\n",
            " 'Comedy,Drama,Family' 'Action,Crime,Sport' 'Mystery,Sci-Fi,Thriller'\n",
            " 'Sci-Fi,Thriller' 'Adventure,Drama,Horror' 'Biography,History,Thriller'\n",
            " 'Adventure,Comedy,Sci-Fi' 'Fantasy,Horror' 'Action,Fantasy,Thriller'\n",
            " 'Comedy,Romance,Sport' 'Animation,Action,Comedy' 'Drama,Fantasy,Thriller'\n",
            " 'Action,Comedy,Romance' 'Action,Fantasy,Horror' 'Mystery,Romance,Sci-Fi'\n",
            " 'Comedy,Drama,Thriller' 'Comedy,Western' 'Drama,History,War'\n",
            " 'Fantasy,Horror,Thriller' 'Drama,Horror,Musical' 'Drama,Family'\n",
            " 'Romance,Sci-Fi,Thriller' 'Animation,Fantasy' 'Drama,Mystery,War'\n",
            " 'Action,Drama,Family' 'Adventure,Drama,Western' 'Drama,Music,Romance'\n",
            " 'Comedy,Romance,Western' 'Adventure,Drama' 'Drama,Thriller,War'\n",
            " 'Drama,Fantasy,Mystery' 'Comedy,Crime,Thriller' 'Animation,Comedy,Drama'\n",
            " 'Action,Comedy,Sci-Fi' 'Drama,Romance,War' 'Adventure,Fantasy,Mystery'\n",
            " 'Mystery,Romance,Thriller' 'Biography,Drama,Mystery'\n",
            " 'Animation,Drama,Romance' 'Comedy,Horror,Romance' 'Action,Thriller,War'\n",
            " 'Action,Comedy,Horror' 'Action,Crime,Sci-Fi' 'Crime,Thriller'\n",
            " 'Comedy,Horror,Sci-Fi' 'Crime,Drama,Fantasy' 'Drama,Fantasy,Music'\n",
            " 'Action,Comedy,Sport' 'Fantasy,Mystery,Thriller' 'Adventure'\n",
            " 'Adventure,Biography' 'Adventure,Biography,Crime' 'Comedy,Drama,Musical'\n",
            " 'Comedy,Family,Romance' 'Biography,Drama,Family' 'Drama,Fantasy,Musical'\n",
            " 'Adventure,Family' 'Adventure,Comedy,Fantasy' 'Drama,Family,Music'\n",
            " 'Comedy,Family,Fantasy']\n"
          ]
        }
      ]
    },
    {
      "cell_type": "code",
      "source": [
        "df['Genre_Count'] = df['Genre'].apply(lambda x: len(x.split(',')))\n"
      ],
      "metadata": {
        "id": "eYdCP2dLmTEL"
      },
      "execution_count": null,
      "outputs": []
    },
    {
      "cell_type": "code",
      "source": [
        "df['Revenue (Millions)'] = df['Revenue (Millions)'].fillna(df['Revenue (Millions)'].mean())\n",
        "df['Metascore'] = df['Metascore'].fillna(df['Metascore'].mean())\n"
      ],
      "metadata": {
        "id": "WqqzAyPpmW_w"
      },
      "execution_count": null,
      "outputs": []
    },
    {
      "cell_type": "code",
      "source": [
        "print(df.nlargest(5, 'Rating')[['Movie_Title', 'Rating']])\n"
      ],
      "metadata": {
        "colab": {
          "base_uri": "https://localhost:8080/"
        },
        "id": "9BUotUgUmY9X",
        "outputId": "bc02e6e5-3006-4ec0-fc78-bb54dfb8fba7"
      },
      "execution_count": null,
      "outputs": [
        {
          "output_type": "stream",
          "name": "stdout",
          "text": [
            "         Movie_Title  Rating\n",
            "54   The Dark Knight     9.0\n",
            "80         Inception     8.8\n",
            "117           Dangal     8.8\n",
            "36      Interstellar     8.6\n",
            "96     Kimi no na wa     8.6\n"
          ]
        }
      ]
    },
    {
      "cell_type": "code",
      "source": [
        "print(df.loc[df['Revenue (Millions)'].idxmax()])\n",
        "print(df.loc[df['Revenue (Millions)'].idxmin()])\n"
      ],
      "metadata": {
        "colab": {
          "base_uri": "https://localhost:8080/"
        },
        "id": "1enUZDBpmasG",
        "outputId": "bb2e7625-ae58-4c0e-eda2-fc25fc79e272"
      },
      "execution_count": null,
      "outputs": [
        {
          "output_type": "stream",
          "name": "stdout",
          "text": [
            "Rank                                                                 51\n",
            "Movie_Title                  Star Wars: Episode VII - The Force Awakens\n",
            "Genre                                          Action,Adventure,Fantasy\n",
            "Description           Three decades after the defeat of the Galactic...\n",
            "Director                                                    J.J. Abrams\n",
            "Actors                Daisy Ridley, John Boyega, Oscar Isaac, Domhna...\n",
            "Year                                                               2015\n",
            "Runtime (Minutes)                                                   136\n",
            "Rating                                                              8.1\n",
            "Votes                                                            661608\n",
            "Revenue (Millions)                                               936.63\n",
            "Metascore                                                          81.0\n",
            "Genre_Count                                                           3\n",
            "Name: 50, dtype: object\n",
            "Rank                                                                232\n",
            "Movie_Title                                            A Kind of Murder\n",
            "Genre                                              Crime,Drama,Thriller\n",
            "Description           In 1960s New York, Walter Stackhouse is a succ...\n",
            "Director                                                   Andy Goddard\n",
            "Actors                Patrick Wilson, Jessica Biel, Haley Bennett, V...\n",
            "Year                                                               2016\n",
            "Runtime (Minutes)                                                    95\n",
            "Rating                                                              5.2\n",
            "Votes                                                              3305\n",
            "Revenue (Millions)                                                  0.0\n",
            "Metascore                                                          50.0\n",
            "Genre_Count                                                           3\n",
            "Name: 231, dtype: object\n"
          ]
        }
      ]
    },
    {
      "cell_type": "code",
      "source": [
        "print(df.groupby('Director')['Rating'].mean().sort_values(ascending=False))\n"
      ],
      "metadata": {
        "colab": {
          "base_uri": "https://localhost:8080/"
        },
        "id": "nrTbYxh2mhEv",
        "outputId": "332ba518-8fbc-42b7-a402-1a413f7883a4"
      },
      "execution_count": null,
      "outputs": [
        {
          "output_type": "stream",
          "name": "stdout",
          "text": [
            "Director\n",
            "Nitesh Tiwari                       8.80\n",
            "Christopher Nolan                   8.68\n",
            "Olivier Nakache                     8.60\n",
            "Makoto Shinkai                      8.60\n",
            "Florian Henckel von Donnersmarck    8.50\n",
            "                                    ... \n",
            "Micheal Bafaro                      3.50\n",
            "Jonathan Holbrook                   3.20\n",
            "Shawn Burkett                       2.70\n",
            "James Wong                          2.70\n",
            "Jason Friedberg                     1.90\n",
            "Name: Rating, Length: 644, dtype: float64\n"
          ]
        }
      ]
    },
    {
      "cell_type": "code",
      "source": [
        "print(df['Year'].value_counts())\n"
      ],
      "metadata": {
        "colab": {
          "base_uri": "https://localhost:8080/"
        },
        "id": "qaSHYPO0mj5h",
        "outputId": "2b2e14b3-2212-4ea2-8348-6b64b00e0074"
      },
      "execution_count": null,
      "outputs": [
        {
          "output_type": "stream",
          "name": "stdout",
          "text": [
            "Year\n",
            "2016    297\n",
            "2015    127\n",
            "2014     98\n",
            "2013     91\n",
            "2012     64\n",
            "2011     63\n",
            "2010     60\n",
            "2007     53\n",
            "2008     52\n",
            "2009     51\n",
            "2006     44\n",
            "Name: count, dtype: int64\n"
          ]
        }
      ]
    },
    {
      "cell_type": "code",
      "source": [
        "print(df[(df['Rating'] > 8) & (df['Revenue (Millions)'] > 100)])\n"
      ],
      "metadata": {
        "colab": {
          "base_uri": "https://localhost:8080/"
        },
        "id": "6laYUa8qmoRe",
        "outputId": "768dc16c-966f-41bc-bf74-5981a72433b1"
      },
      "execution_count": null,
      "outputs": [
        {
          "output_type": "stream",
          "name": "stdout",
          "text": [
            "     Rank                                   Movie_Title  \\\n",
            "0       1                       Guardians of the Galaxy   \n",
            "6       7                                    La La Land   \n",
            "36     37                                  Interstellar   \n",
            "50     51    Star Wars: Episode VII - The Force Awakens   \n",
            "54     55                               The Dark Knight   \n",
            "67     68                            Mad Max: Fury Road   \n",
            "74     75                                      Zootopia   \n",
            "76     77                                  The Avengers   \n",
            "77     78                          Inglourious Basterds   \n",
            "80     81                                     Inception   \n",
            "82     83                       The Wolf of Wall Street   \n",
            "83     84                                     Gone Girl   \n",
            "92     93                                      The Help   \n",
            "99    100                                  The Departed   \n",
            "114   115  Harry Potter and the Deathly Hallows: Part 2   \n",
            "124   125                         The Dark Knight Rises   \n",
            "138   139                                Shutter Island   \n",
            "144   145                              Django Unchained   \n",
            "241   242                                    Inside Out   \n",
            "427   428                          The Bourne Ultimatum   \n",
            "499   500                                            Up   \n",
            "634   635                                        WALL·E   \n",
            "645   646                                   Gran Torino   \n",
            "688   689                                   Toy Story 3   \n",
            "772   773                      How to Train Your Dragon   \n",
            "\n",
            "                          Genre  \\\n",
            "0       Action,Adventure,Sci-Fi   \n",
            "6            Comedy,Drama,Music   \n",
            "36       Adventure,Drama,Sci-Fi   \n",
            "50     Action,Adventure,Fantasy   \n",
            "54           Action,Crime,Drama   \n",
            "67      Action,Adventure,Sci-Fi   \n",
            "74   Animation,Adventure,Comedy   \n",
            "76                Action,Sci-Fi   \n",
            "77          Adventure,Drama,War   \n",
            "80      Action,Adventure,Sci-Fi   \n",
            "82       Biography,Comedy,Crime   \n",
            "83          Crime,Drama,Mystery   \n",
            "92                        Drama   \n",
            "99         Crime,Drama,Thriller   \n",
            "114     Adventure,Drama,Fantasy   \n",
            "124             Action,Thriller   \n",
            "138            Mystery,Thriller   \n",
            "144               Drama,Western   \n",
            "241  Animation,Adventure,Comedy   \n",
            "427     Action,Mystery,Thriller   \n",
            "499  Animation,Adventure,Comedy   \n",
            "634  Animation,Adventure,Family   \n",
            "645                       Drama   \n",
            "688  Animation,Adventure,Comedy   \n",
            "772  Animation,Action,Adventure   \n",
            "\n",
            "                                           Description           Director  \\\n",
            "0    A group of intergalactic criminals are forced ...         James Gunn   \n",
            "6    A jazz pianist falls for an aspiring actress i...    Damien Chazelle   \n",
            "36   A team of explorers travel through a wormhole ...  Christopher Nolan   \n",
            "50   Three decades after the defeat of the Galactic...        J.J. Abrams   \n",
            "54   When the menace known as the Joker wreaks havo...  Christopher Nolan   \n",
            "67   A woman rebels against a tyrannical ruler in p...      George Miller   \n",
            "74   In a city of anthropomorphic animals, a rookie...       Byron Howard   \n",
            "76   Earth's mightiest heroes must come together an...        Joss Whedon   \n",
            "77   In Nazi-occupied France during World War II, a...  Quentin Tarantino   \n",
            "80   A thief, who steals corporate secrets through ...  Christopher Nolan   \n",
            "82   Based on the true story of Jordan Belfort, fro...    Martin Scorsese   \n",
            "83   With his wife's disappearance having become th...      David Fincher   \n",
            "92   An aspiring author during the civil rights mov...        Tate Taylor   \n",
            "99   An undercover cop and a mole in the police att...    Martin Scorsese   \n",
            "114  Harry, Ron and Hermione search for Voldemort's...        David Yates   \n",
            "124  Eight years after the Joker's reign of anarchy...  Christopher Nolan   \n",
            "138  In 1954, a U.S. marshal investigates the disap...    Martin Scorsese   \n",
            "144  With the help of a German bounty hunter , a fr...  Quentin Tarantino   \n",
            "241  After young Riley is uprooted from her Midwest...        Pete Docter   \n",
            "427  Jason Bourne dodges a ruthless CIA official an...    Paul Greengrass   \n",
            "499  Seventy-eight year old Carl Fredricksen travel...        Pete Docter   \n",
            "634  In the distant future, a small waste-collectin...     Andrew Stanton   \n",
            "645  Disgruntled Korean War veteran Walt Kowalski s...     Clint Eastwood   \n",
            "688  The toys are mistakenly delivered to a day-car...        Lee Unkrich   \n",
            "772  A hapless young Viking who aspires to hunt dra...       Dean DeBlois   \n",
            "\n",
            "                                                Actors  Year  \\\n",
            "0    Chris Pratt, Vin Diesel, Bradley Cooper, Zoe S...  2014   \n",
            "6    Ryan Gosling, Emma Stone, Rosemarie DeWitt, J....  2016   \n",
            "36   Matthew McConaughey, Anne Hathaway, Jessica Ch...  2014   \n",
            "50   Daisy Ridley, John Boyega, Oscar Isaac, Domhna...  2015   \n",
            "54   Christian Bale, Heath Ledger, Aaron Eckhart,Mi...  2008   \n",
            "67   Tom Hardy, Charlize Theron, Nicholas Hoult, Zo...  2015   \n",
            "74   Ginnifer Goodwin, Jason Bateman, Idris Elba, J...  2016   \n",
            "76   Robert Downey Jr., Chris Evans, Scarlett Johan...  2012   \n",
            "77   Brad Pitt, Diane Kruger, Eli Roth,Mélanie Laurent  2009   \n",
            "80   Leonardo DiCaprio, Joseph Gordon-Levitt, Ellen...  2010   \n",
            "82   Leonardo DiCaprio, Jonah Hill, Margot Robbie,M...  2013   \n",
            "83   Ben Affleck, Rosamund Pike, Neil Patrick Harri...  2014   \n",
            "92   Emma Stone, Viola Davis, Octavia Spencer, Bryc...  2011   \n",
            "99   Leonardo DiCaprio, Matt Damon, Jack Nicholson,...  2006   \n",
            "114  Daniel Radcliffe, Emma Watson, Rupert Grint, M...  2011   \n",
            "124  Christian Bale, Tom Hardy, Anne Hathaway,Gary ...  2012   \n",
            "138  Leonardo DiCaprio, Emily Mortimer, Mark Ruffal...  2010   \n",
            "144  Jamie Foxx, Christoph Waltz, Leonardo DiCaprio...  2012   \n",
            "241  Amy Poehler, Bill Hader, Lewis Black, Mindy Ka...  2015   \n",
            "427  Matt Damon, Edgar Ramírez, Joan Allen, Julia S...  2007   \n",
            "499  Edward Asner, Jordan Nagai, John Ratzenberger,...  2009   \n",
            "634  Ben Burtt, Elissa Knight, Jeff Garlin, Fred Wi...  2008   \n",
            "645  Clint Eastwood, Bee Vang, Christopher Carley,A...  2008   \n",
            "688      Tom Hanks, Tim Allen, Joan Cusack, Ned Beatty  2010   \n",
            "772  Jay Baruchel, Gerard Butler,Christopher Mintz-...  2010   \n",
            "\n",
            "     Runtime (Minutes)  Rating    Votes  Revenue (Millions)  Metascore  \\\n",
            "0                  121     8.1   757074              333.13  76.000000   \n",
            "6                  128     8.3   258682              151.06  93.000000   \n",
            "36                 169     8.6  1047747              187.99  74.000000   \n",
            "50                 136     8.1   661608              936.63  81.000000   \n",
            "54                 152     9.0  1791916              533.32  82.000000   \n",
            "67                 120     8.1   632842              153.63  90.000000   \n",
            "74                 108     8.1   296853              341.26  78.000000   \n",
            "76                 143     8.1  1045588              623.28  69.000000   \n",
            "77                 153     8.3   959065              120.52  69.000000   \n",
            "80                 148     8.8  1583625              292.57  74.000000   \n",
            "82                 180     8.2   865134              116.87  75.000000   \n",
            "83                 149     8.1   636243              167.74  79.000000   \n",
            "92                 146     8.1   342429              169.71  62.000000   \n",
            "99                 151     8.5   937414              132.37  85.000000   \n",
            "114                130     8.1   590595              380.96  87.000000   \n",
            "124                164     8.5  1222645              448.13  78.000000   \n",
            "138                138     8.1   855604              127.97  63.000000   \n",
            "144                165     8.4  1039115              162.80  81.000000   \n",
            "241                 95     8.2   416689              356.45  94.000000   \n",
            "427                115     8.1   525700              227.14  85.000000   \n",
            "499                 96     8.3   722203              292.98  88.000000   \n",
            "634                 98     8.4   776897              223.81  58.985043   \n",
            "645                116     8.2   595779              148.09  58.985043   \n",
            "688                103     8.3   586669              414.98  92.000000   \n",
            "772                 98     8.1   523893              217.39  74.000000   \n",
            "\n",
            "     Genre_Count  \n",
            "0              3  \n",
            "6              3  \n",
            "36             3  \n",
            "50             3  \n",
            "54             3  \n",
            "67             3  \n",
            "74             3  \n",
            "76             2  \n",
            "77             3  \n",
            "80             3  \n",
            "82             3  \n",
            "83             3  \n",
            "92             1  \n",
            "99             3  \n",
            "114            3  \n",
            "124            2  \n",
            "138            2  \n",
            "144            2  \n",
            "241            3  \n",
            "427            3  \n",
            "499            3  \n",
            "634            3  \n",
            "645            1  \n",
            "688            3  \n",
            "772            3  \n"
          ]
        }
      ]
    },
    {
      "cell_type": "code",
      "source": [
        "print(df.groupby('Director')[['Rating', 'Revenue (Millions)']].mean())\n"
      ],
      "metadata": {
        "colab": {
          "base_uri": "https://localhost:8080/"
        },
        "id": "TQHBLSPQmwGP",
        "outputId": "8261e707-c53b-4d80-d446-edfca7ed1ba6"
      },
      "execution_count": null,
      "outputs": [
        {
          "output_type": "stream",
          "name": "stdout",
          "text": [
            "                     Rating  Revenue (Millions)\n",
            "Director                                       \n",
            "Aamir Khan             8.50            1.200000\n",
            "Abdellatif Kechiche    7.80            2.200000\n",
            "Adam Leon              6.50           82.956376\n",
            "Adam McKay             7.00          109.535000\n",
            "Adam Shankman          6.30           78.665000\n",
            "...                     ...                 ...\n",
            "Xavier Dolan           7.55           43.223188\n",
            "Yimou Zhang            6.10           45.130000\n",
            "Yorgos Lanthimos       7.20            4.405000\n",
            "Zack Snyder            7.04          195.148000\n",
            "Zackary Adler          5.10            6.530000\n",
            "\n",
            "[644 rows x 2 columns]\n"
          ]
        }
      ]
    },
    {
      "cell_type": "code",
      "source": [
        "print(df.groupby('Year').agg({'Movie_Title':'count','Rating':'mean'}))\n"
      ],
      "metadata": {
        "colab": {
          "base_uri": "https://localhost:8080/"
        },
        "id": "_j4_lr3Zm0gJ",
        "outputId": "975640e3-d21a-427d-f2e6-d40119706cf4"
      },
      "execution_count": null,
      "outputs": [
        {
          "output_type": "stream",
          "name": "stdout",
          "text": [
            "      Movie_Title    Rating\n",
            "Year                       \n",
            "2006           44  7.125000\n",
            "2007           53  7.133962\n",
            "2008           52  6.784615\n",
            "2009           51  6.960784\n",
            "2010           60  6.826667\n",
            "2011           63  6.838095\n",
            "2012           64  6.925000\n",
            "2013           91  6.812088\n",
            "2014           98  6.837755\n",
            "2015          127  6.602362\n",
            "2016          297  6.436700\n"
          ]
        }
      ]
    },
    {
      "cell_type": "code",
      "source": [
        "# Assuming your dataframe is df and columns are 'Revenue (Millions)' and 'Runtime (Minutes)'\n",
        "df['Profitability'] = df['Revenue (Millions)'] / df['Runtime (Minutes)']"
      ],
      "metadata": {
        "id": "_DTj9I1-m203"
      },
      "execution_count": null,
      "outputs": []
    },
    {
      "cell_type": "code",
      "source": [
        "top_10_profitable = df.sort_values(by='Profitability', ascending=False).head(10)\n",
        "print(top_10_profitable[['Movie_Title', 'Profitability']])"
      ],
      "metadata": {
        "colab": {
          "base_uri": "https://localhost:8080/"
        },
        "id": "1AC84NKQoURN",
        "outputId": "96d9c076-ecf0-4889-819d-05d896584f86"
      },
      "execution_count": null,
      "outputs": [
        {
          "output_type": "stream",
          "name": "stdout",
          "text": [
            "                                    Movie_Title  Profitability\n",
            "50   Star Wars: Episode VII - The Force Awakens       6.886985\n",
            "85                               Jurassic World       5.259516\n",
            "119                                Finding Dory       5.013299\n",
            "87                                       Avatar       4.694506\n",
            "76                                 The Avengers       4.358601\n",
            "15                      The Secret Life of Pets       4.233448\n",
            "688                                 Toy Story 3       4.028932\n",
            "12                                    Rogue One       4.001278\n",
            "174                                      Frozen       3.928824\n",
            "797                             Despicable Me 2       3.755612\n"
          ]
        }
      ]
    },
    {
      "cell_type": "code",
      "source": [
        "def categorize_rating(rating):\n",
        "    if rating < 6:\n",
        "        return 'Poor'\n",
        "    elif 6 <= rating < 7.5:\n",
        "        return 'Average'\n",
        "    else:\n",
        "        return 'Excellent'\n",
        "\n",
        "df['Rating_Category'] = df['Rating'].apply(categorize_rating)\n",
        "print(df[['Movie_Title', 'Rating', 'Rating_Category']])"
      ],
      "metadata": {
        "colab": {
          "base_uri": "https://localhost:8080/"
        },
        "id": "D1tAl1nhpgu5",
        "outputId": "1f3f1359-8c85-4dc5-9eff-4bd7ff97115d"
      },
      "execution_count": null,
      "outputs": [
        {
          "output_type": "stream",
          "name": "stdout",
          "text": [
            "                 Movie_Title  Rating Rating_Category\n",
            "0    Guardians of the Galaxy     8.1       Excellent\n",
            "1                 Prometheus     7.0         Average\n",
            "2                      Split     7.3         Average\n",
            "3                       Sing     7.2         Average\n",
            "4              Suicide Squad     6.2         Average\n",
            "..                       ...     ...             ...\n",
            "995     Secret in Their Eyes     6.2         Average\n",
            "996          Hostel: Part II     5.5            Poor\n",
            "997   Step Up 2: The Streets     6.2         Average\n",
            "998             Search Party     5.6            Poor\n",
            "999               Nine Lives     5.3            Poor\n",
            "\n",
            "[1000 rows x 3 columns]\n"
          ]
        }
      ]
    },
    {
      "cell_type": "code",
      "source": [],
      "metadata": {
        "id": "Gacz5QhnqpwK"
      },
      "execution_count": null,
      "outputs": []
    },
    {
      "cell_type": "code",
      "source": [
        "# Define scoring function\n",
        "def movie_score(row):\n",
        "    return row['Rating'] * 10 + row['Revenue (Millions)']\n",
        "\n",
        "# Apply function to dataset\n",
        "df['High_Score'] = df.apply(movie_score, axis=1)\n",
        "print(df[['Movie_Title', 'Rating', 'Revenue (Millions)', 'High_Score']])"
      ],
      "metadata": {
        "colab": {
          "base_uri": "https://localhost:8080/"
        },
        "id": "gBnJQ0uXqGiy",
        "outputId": "91936923-92fb-42e1-c7b6-15ca8216e951"
      },
      "execution_count": null,
      "outputs": [
        {
          "output_type": "stream",
          "name": "stdout",
          "text": [
            "                 Movie_Title  Rating  Revenue (Millions)  High_Score\n",
            "0    Guardians of the Galaxy     8.1          333.130000  414.130000\n",
            "1                 Prometheus     7.0          126.460000  196.460000\n",
            "2                      Split     7.3          138.120000  211.120000\n",
            "3                       Sing     7.2          270.320000  342.320000\n",
            "4              Suicide Squad     6.2          325.020000  387.020000\n",
            "..                       ...     ...                 ...         ...\n",
            "995     Secret in Their Eyes     6.2           82.956376  144.956376\n",
            "996          Hostel: Part II     5.5           17.540000   72.540000\n",
            "997   Step Up 2: The Streets     6.2           58.010000  120.010000\n",
            "998             Search Party     5.6           82.956376  138.956376\n",
            "999               Nine Lives     5.3           19.640000   72.640000\n",
            "\n",
            "[1000 rows x 4 columns]\n"
          ]
        }
      ]
    },
    {
      "cell_type": "code",
      "source": [],
      "metadata": {
        "id": "iY-sWvoYqPiX"
      },
      "execution_count": null,
      "outputs": []
    }
  ]
}